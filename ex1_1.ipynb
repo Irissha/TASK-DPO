{
 "cells": [
  {
   "cell_type": "markdown",
   "metadata": {},
   "source": [
    "# Первый computational notebook"
   ]
  },
  {
   "cell_type": "markdown",
   "metadata": {},
   "source": [
    "## Упражнение: Вычисление числа pi с помощью метода Монте-Карло"
   ]
  },
  {
   "cell_type": "markdown",
   "metadata": {},
   "source": [
    "Каждый пронумерованный элемент будет представлять собой новую ячейку. Нажмите `SHIFT\n",
    "+ENTER`, чтобы запустить ячейку и создать новую ячейку ниже. Выбрав ячейку, нажмите\n",
    "`ESCAPE` для перехода в командный режим. Используйте клавиши `M` и `Y` для изменения ячеек\n",
    "на разметку и код."
   ]
  },
  {
   "cell_type": "markdown",
   "metadata": {},
   "source": [
    "1. Создайте новый блокнот , назовите его и добавьте заголовок (ячейку в формате\n",
    "markdown ниже)."
   ]
  },
  {
   "cell_type": "markdown",
   "metadata": {},
   "source": [
    "1. Подсчет PI с помощью метода Монте-Карло"
   ]
  },
  {
   "cell_type": "markdown",
   "metadata": {},
   "source": [
    "2. Зафиксируйте соответствующие формулы в новой ячейке (ячейке с Markdown):"
   ]
  },
  {
   "cell_type": "markdown",
   "metadata": {},
   "source": [
    "## Формулы\n",
    "\n",
    "- площадь квадрата: $s = (2 r)^2$\n",
    "- площадь круга: $c = \\pi r^2$\n",
    "- $c/s = (\\pi r^2) / (4 r^2) = \\pi / 4$\n",
    "- $\\pi = 4* c/s$"
   ]
  },
  {
   "cell_type": "markdown",
   "metadata": {},
   "source": [
    "3. Добавьте изображение для пояснения концепции (ячейка markdown):"
   ]
  },
  {
   "cell_type": "markdown",
   "metadata": {},
   "source": [
    "1. ![Дротики](https://raw.githubusercontent.com/coderefinery/jupyter/main/example/darts.svg)"
   ]
  },
  {
   "cell_type": "markdown",
   "metadata": {},
   "source": [
    "4. Импортируйте два модуля, которые нам понадобятся (ячейка с кодом):"
   ]
  },
  {
   "cell_type": "code",
   "execution_count": 8,
   "metadata": {},
   "outputs": [],
   "source": [
    "import random\n",
    "import matplotlib.pyplot as plt"
   ]
  },
  {
   "cell_type": "code",
   "execution_count": 9,
   "metadata": {},
   "outputs": [
    {
     "name": "stdout",
     "output_type": "stream",
     "text": [
      "Defaulting to user installation because normal site-packages is not writeable\n",
      "Requirement already satisfied: pandas in c:\\users\\irina\\appdata\\local\\packages\\pythonsoftwarefoundation.python.3.12_qbz5n2kfra8p0\\localcache\\local-packages\\python312\\site-packages (2.2.3)\n",
      "Requirement already satisfied: matplotlib in c:\\users\\irina\\appdata\\local\\packages\\pythonsoftwarefoundation.python.3.12_qbz5n2kfra8p0\\localcache\\local-packages\\python312\\site-packages (3.9.2)\n",
      "Requirement already satisfied: numpy>=1.26.0 in c:\\users\\irina\\appdata\\local\\packages\\pythonsoftwarefoundation.python.3.12_qbz5n2kfra8p0\\localcache\\local-packages\\python312\\site-packages (from pandas) (2.1.2)\n",
      "Requirement already satisfied: python-dateutil>=2.8.2 in c:\\users\\irina\\appdata\\local\\packages\\pythonsoftwarefoundation.python.3.12_qbz5n2kfra8p0\\localcache\\local-packages\\python312\\site-packages (from pandas) (2.9.0.post0)\n",
      "Requirement already satisfied: pytz>=2020.1 in c:\\users\\irina\\appdata\\local\\packages\\pythonsoftwarefoundation.python.3.12_qbz5n2kfra8p0\\localcache\\local-packages\\python312\\site-packages (from pandas) (2024.2)\n",
      "Requirement already satisfied: tzdata>=2022.7 in c:\\users\\irina\\appdata\\local\\packages\\pythonsoftwarefoundation.python.3.12_qbz5n2kfra8p0\\localcache\\local-packages\\python312\\site-packages (from pandas) (2024.2)\n",
      "Requirement already satisfied: contourpy>=1.0.1 in c:\\users\\irina\\appdata\\local\\packages\\pythonsoftwarefoundation.python.3.12_qbz5n2kfra8p0\\localcache\\local-packages\\python312\\site-packages (from matplotlib) (1.3.0)\n",
      "Requirement already satisfied: cycler>=0.10 in c:\\users\\irina\\appdata\\local\\packages\\pythonsoftwarefoundation.python.3.12_qbz5n2kfra8p0\\localcache\\local-packages\\python312\\site-packages (from matplotlib) (0.12.1)\n",
      "Requirement already satisfied: fonttools>=4.22.0 in c:\\users\\irina\\appdata\\local\\packages\\pythonsoftwarefoundation.python.3.12_qbz5n2kfra8p0\\localcache\\local-packages\\python312\\site-packages (from matplotlib) (4.54.1)\n",
      "Requirement already satisfied: kiwisolver>=1.3.1 in c:\\users\\irina\\appdata\\local\\packages\\pythonsoftwarefoundation.python.3.12_qbz5n2kfra8p0\\localcache\\local-packages\\python312\\site-packages (from matplotlib) (1.4.7)\n",
      "Requirement already satisfied: packaging>=20.0 in c:\\users\\irina\\appdata\\local\\packages\\pythonsoftwarefoundation.python.3.12_qbz5n2kfra8p0\\localcache\\local-packages\\python312\\site-packages (from matplotlib) (24.1)\n",
      "Requirement already satisfied: pillow>=8 in c:\\users\\irina\\appdata\\local\\packages\\pythonsoftwarefoundation.python.3.12_qbz5n2kfra8p0\\localcache\\local-packages\\python312\\site-packages (from matplotlib) (11.0.0)\n",
      "Requirement already satisfied: pyparsing>=2.3.1 in c:\\users\\irina\\appdata\\local\\packages\\pythonsoftwarefoundation.python.3.12_qbz5n2kfra8p0\\localcache\\local-packages\\python312\\site-packages (from matplotlib) (3.2.0)\n",
      "Requirement already satisfied: six>=1.5 in c:\\users\\irina\\appdata\\local\\packages\\pythonsoftwarefoundation.python.3.12_qbz5n2kfra8p0\\localcache\\local-packages\\python312\\site-packages (from python-dateutil>=2.8.2->pandas) (1.16.0)\n"
     ]
    }
   ],
   "source": [
    "!python -m pip install pandas matplotlib\n"
   ]
  },
  {
   "cell_type": "markdown",
   "metadata": {},
   "source": [
    "5. Инициализируйте количество точек (ячейка с кодом):"
   ]
  },
  {
   "cell_type": "code",
   "execution_count": 10,
   "metadata": {},
   "outputs": [],
   "source": [
    "num_points = 10"
   ]
  },
  {
   "cell_type": "markdown",
   "metadata": {},
   "source": [
    "6. Броски дротиков (ячейка с кодом):"
   ]
  },
  {
   "cell_type": "code",
   "execution_count": 11,
   "metadata": {},
   "outputs": [],
   "source": [
    "points = []\n",
    "hits = 0\n",
    "for _ in range(num_points):\n",
    "    x, y = random.random(), random.random()\n",
    "    if x*x + y*y < 1.0:\n",
    "        hits += 1\n",
    "        points.append((x,y, \"red\"))\n",
    "    else:\n",
    "        points.append((x, y, \"blue\"))\n",
    "    "
   ]
  },
  {
   "cell_type": "markdown",
   "metadata": {},
   "source": [
    "7. Построение графика результатов (ячейка с кодом):"
   ]
  },
  {
   "cell_type": "code",
   "execution_count": 12,
   "metadata": {},
   "outputs": [
    {
     "data": {
      "text/plain": [
       "3.6"
      ]
     },
     "execution_count": 12,
     "metadata": {},
     "output_type": "execute_result"
    },
    {
     "data": {
      "image/png": "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",
      "text/plain": [
       "<Figure size 600x600 with 1 Axes>"
      ]
     },
     "metadata": {},
     "output_type": "display_data"
    }
   ],
   "source": [
    "x,y, colors = zip(*points)\n",
    "\n",
    "fig, ax = plt.subplots()\n",
    "fig.set_size_inches(6.0, 6.0)\n",
    "\n",
    "ax.scatter(x, y, c=colors)\n",
    "\n",
    "franction = hits / num_points\n",
    "4 * franction"
   ]
  },
  {
   "cell_type": "markdown",
   "metadata": {},
   "source": [
    "8. Вычислите оценку для pi (ячейка с кодом):"
   ]
  },
  {
   "cell_type": "code",
   "execution_count": null,
   "metadata": {},
   "outputs": [],
   "source": [
    "pi_estimate = 4 * (hits / number_p)\n",
    "print(f\"Оценка числа ПИ: {pi_estimate}\")"
   ]
  },
  {
   "cell_type": "markdown",
   "metadata": {},
   "source": [
    "### Работаем с обычным git diff"
   ]
  },
  {
   "cell_type": "markdown",
   "metadata": {},
   "source": [
    "1. Для понимания проблемы можно посмотреть пример блокнота (https://github.com/coderefinery/jupyter/blob/main/example/darts.ipynb), а затем исходный код (https://raw.githubusercontent.com/coderefinery/jupyter/main/example/darts.ipynb) в формате `JSON`.\n",
    "2. Затем мы вносим в пример блокнота простые изменения, например, меняем цвета (заменяем \"красный\" и \"синий\" на что-то другое), а также меняем размеры в `fig.set_size_inches(6.0, 6.0)`\n",
    "3. Запускаем все ячейки.\n",
    "4. Сохраняем изменение (значок сохранения) и в терминале JupyterLab пробуем \"нормальный\" `gitdiff` и видим, что это не очень хорошо сработало. Напишите почему в ячейке с комментарием ниже."
// Даже небольшие изменения в коде или выводе могут привести к значительным изменениям в JSON.
// Eсли ячейки с кодом генерируют графики или сложные объекты, они сохраняются в виде закодированных данных.
// Это делает git diff трудночитаемым, так как он показывает измененные блоки данных.

   ]
  },
  {
   "cell_type": "markdown",
   "metadata": {},
   "source": [
    "### Упражнение: что происходит без `requirements.txt`?"
   ]
  },
  {
   "cell_type": "markdown",
   "metadata": {},
   "source": [
    "Рассмотрим тот же репозиторий неравенства действий. (https://github.com/timalthoff/activityinequality)\n",
    "\n",
    "- Запустите репозиторий в Binder (или у себя), используя эту ссылку. (https://mybinder.org/v2/gh/timalthoff/\n",
    "activityinequality/master)\n",
    "- `fig3/fig3bc.ipynb` это блокнот на языке Python, поэтому он работает в Binder. Большинство других - на языке R, который также работает в Binder. Но как? https://mybinder.readthedocs.io/en/latest/howto/languages.html\n",
    "- Попробуйте запустить блокнот. Что произойдет?\n",
    "- Скорее всего, прогон упадёт сразу в первой ячейке:\n",
    "\n",
    "```python\n",
    "%matplotlib inline\n",
    "import pandas as pd\n",
    "import matplotlib.pyplot as plt\n",
    "import seaborn as sns\n",
    "sns.set(style=\"whitegrid\") from\n",
    "itertools import cycle\n",
    "```\n",
    "\n",
    "Мы получаем длинный список сообщений `ModuleNotFoundError`. Это связано с тем, что\n",
    "требуемые Python пакеты не были установлены и не могут быть импортированы. К\n",
    "недостающим пакетам относятся, по крайней мере `pandas` и `matplotlib`.\n",
    "\n",
    "Чтобы установить недостающие зависимости, добавьте в начало блокнота новую ячейку\n",
    "кода с содержанием:\n",
    "\n",
    "```python\n",
    "!python3 -m pip install pandas matplotlib\n",
    "```\n",
    "и запустите блокнот снова. Что произойдет теперь?\n",
    "\n",
    "Запуск опять прерывается из-за отсутствия пакетов! На этот раз виновником является\n",
    "пакет `seaborn`. Изменим первую ячейку так, чтобы она также устанавливалась с помощью:\n",
    "\n",
    "```python\n",
    "!python3 -m pip install pandas matplotlib seaborn\n",
    "```\n",
    "и попробуйте запустить ноутбук в третий раз. Работает ли он теперь? Что можно было\n",
    "бы сделать по-другому со стороны разработчика? Напишите ответ в комментарии.\n",
    "\n",
    "Хороший способ сделать блокнот более удобным для использования - создать файл\n",
    "`requirements.txt` содержащий пакеты, необходимые для работы блокнота, и добавьте его\n",
    "рядом с блокнотом в репозиторий.\n",
    "\n",
    "В нашем случае это может выглядеть следующим образом:\n",
    "\n",
    "```\n",
    "pandas\n",
    "matplotlib\n",
    "seaborn\n",
    "```\n",
    "а чтобы убедиться, что пакеты установлены, можно добавить в начало исходного\n",
    "блокнота ячейку кода со строкой:\n",
    "\n",
    "```python\n",
    "!python3 -m pip install -r requirements.txt\n",
    "```\n",
    "Чтобы быть уверенным в том, что ноутбук будет работать и через несколько месяцев (после\n",
    "обновления зависимостей), необходимо, чтобы в файле `requirements.txt` также была\n",
    "указана та же версия, которую вы использовали при работе. Попробуйте указать в своём\n",
    "блокноте текущую версию ваших зависимостей."
   ]
  },
  {
   "cell_type": "markdown",
   "metadata": {},
   "source": [
    "### Консольные команды, виджеты оболочки и немного магии (cell magic)"
   ]
  },
  {
   "cell_type": "markdown",
   "metadata": {},
   "source": [
    "Используя блокнот `computing-pi`, потренируйтесь в использовании нескольких полезных\n",
    "команд. Помните, что команды ячейки должны располагаться в первой строке ячейки.\n",
    "\n",
    "1. В ячейке с `for-loop` (там, где `num_points`) добавьте `%%timeit` и запустите ячейку\n",
    "2. В той же ячейке попробуйте запустить `%%prun`\n",
    "3. Попробуйте внести ошибку в код (например, использовать неправильное имя переменной:\n",
    "points.append((`x`, `y2`, `True`))\n",
    "\n",
    "- запустите ячейку\n",
    "- после того как поймайте `exception` запустите `%debug` в новой ячейке и зайдите в\n",
    "интерактивный отладчик\n",
    "- нажмите `h` для того чтобы отобразилось меню помощи и используйте `help <keyword>` для\n",
    "подсказки по ключевому слову\n",
    "- наберите `p` `x` для того, чтобы вывести значение `x`\n",
    "- выйдите из отладчика нажав `q`\n",
    "\n",
    "Посмотрите на вывод команды `%lsmagic`. Используйте кнопки с одним и двумя знаками вопроса,\n",
    "чтобы посмотреть справку."
   ]
  },
  {
   "cell_type": "markdown",
   "metadata": {},
   "source": [
    "### Давайте попробуем виджеты"
   ]
  },
  {
   "cell_type": "markdown",
   "metadata": {},
   "source": [
    "Виджеты могут использоваться для интерактивного изучения или анализа данных.\n",
    "\n",
    "1. Вернемся к примеру с аппроксимацией pi и создадим новую ячейку, в которой\n",
    "повторим написанный ранее код, но на этот раз поместим его в функции. Это \"скрывает\" детали и\n",
    "чувствительные данные, а также позволяет повторно использовать функции позже или в других\n",
    "блокнотах:\n",
    "\n",
    "```python\n",
    "from matplotlib import pyplot\n",
    "import random\n",
    "from ipywidgets import interact, widgets\n",
    "\n",
    "%matplotlib inline\n",
    "\n",
    "\n",
    "def throw_darts(num_points):\n",
    "    points = []\n",
    "    hits = 0\n",
    "    for _ in range(num_points):\n",
    "        x, y = random.random(), random.random()\n",
    "        if x*x + y*y < 1.0:\n",
    "            hits += 1\n",
    "            points.append((x, y, True))\n",
    "        else:\n",
    "            points.append((x, y, False))\n",
    "    fraction = hits / num_points\n",
    "    pi = 4 * fraction\n",
    "    return pi, points\n",
    "\n",
    "\n",
    "def create_plot(points):\n",
    "    x, y, colors = zip(*points)\n",
    "    pyplot.scatter(x, y, c=colors)\n",
    "\n",
    "\n",
    "def experiment(num_points):\n",
    "    pi, points = throw_darts(num_points)\n",
    "    create_plot(points)\n",
    "    print(\"approximation:\", pi)\n",
    "\n",
    "```\n",
    "\n",
    "2. Попробуйте поэкспериментировать с функцией `experiment`. Например, можно попробовать\n",
    "поставить `num_points = 2000`\n",
    "3. Добавьте ячейку, в которой мы сделаем возможным интерактивное изменение\n",
    "количества точек:\n",
    "\n",
    "```python\n",
    "interact(experiment, num_points=widgets.IntSlider(min=100, max=10000, step=100,\n",
    "value=1000))\n",
    "```\n",
    "\n",
    "> Если вы столкнулись с проблемой `Error displaying widget: model not found` то, возможно, потребуется обновить страницу.\n",
    ">\n",
    "\n",
    "4. Перетащите ползунок вперед-назад и понаблюдайте за результатами.\n",
    "5. Можете ли вы назвать другие интересные варианты использования виджетов? Напишите ответ в комментарии"
   ]
  },
  {
   "cell_type": "markdown",
   "metadata": {},
   "source": [
    "### Виджеты для интерактивной подгонки данных (data fitting)"
   ]
  },
  {
   "cell_type": "markdown",
   "metadata": {},
   "source": [
    "Виджеты - это довольно интересны инструмент сам по себе, но они также могут быть и\n",
    "полезными. Ниже пример, показывающий, как можно в интерактивном режиме подгонять\n",
    "шумные данные (noisy data).\n",
    "\n",
    "1. Выполните приведенную ниже ячейку. Она подгоняет полином 5-го порядка к гауссовой\n",
    "функции с некоторым случайным шумом\n",
    "2. Используйте декоратор @interact вокруг двух последних строк кода, чтобы можно было\n",
    "визуализировать подгонки с полиномиальными порядками в диапазоне, скажем, от 3 до 30:\n",
    "\n",
    "```python\n",
    "import numpy as np\n",
    "\n",
    "import matplotlib.pyplot as plt\n",
    "%matplotlib inline\n",
    "\n",
    "\n",
    "def gaussian(x, a, b, c):\n",
    "    return a * np.exp(-b * (x-c)**2)\n",
    "\n",
    "\n",
    "def noisy_gaussian():\n",
    "    # gaussian array y in interval -5 <= x <= 5\n",
    "    nx = 100\n",
    "    x = np.linspace(-5.0, 5.0, nx)\n",
    "    y = gaussian(x, a=2.0, b=0.5, c=1.5)\n",
    "    noise = np.random.normal(0.0, 0.2, nx)\n",
    "    y += noise\n",
    "    return x, y\n",
    "\n",
    "\n",
    "def fit(x, y, n):\n",
    "    pfit = np.polyfit(x, y, n)\n",
    "    yfit = np.polyval(pfit, x)\n",
    "    return yfit\n",
    "\n",
    "\n",
    "def plot(x, y, yfit):\n",
    "    plt.plot(x, y, \"r\", label=\"Data\")\n",
    "    plt.plot(x, yfit, \"b\", label=\"Fit\")\n",
    "    plt.legend()\n",
    "    plt.ylim(-0.5, 2.5)\n",
    "    plt.show()\n",
    "\n",
    "\n",
    "x, y = noisy_gaussian()\n",
    "yfit = fit(x, y, n=5)  # fit a 5th order polynomial to it\n",
    "plot(x, y, yfit)\n",
    "\n",
    "```\n"
   ]
  },
  {
   "cell_type": "markdown",
   "metadata": {},
   "source": [
    "### Профилирование ячеек"
   ]
  },
  {
   "cell_type": "markdown",
   "metadata": {},
   "source": [
    "Это упражнение посвящено профилированию ячеек, но ещё и включает в себя практику\n",
    "работы с магией (cell magic) и ячейками.\n",
    "\n",
    "1. Скопируйте и вставьте в ячейку следующий код:\n",
    "\n",
    "```python\n",
    "import numpy as np\n",
    "import matplotlib.pyplot as plt\n",
    "\n",
    "\n",
    "def step():\n",
    "    import random\n",
    "    return 1. if random.random() > .5 else -1.\n",
    "\n",
    "\n",
    "def walk(n):\n",
    "    x = np.zeros(n)\n",
    "    dx = 1. / n\n",
    "    for i in range(n - 1):\n",
    "        x_new = x[i] + dx * step()\n",
    "        if x_new > 5e-3:\n",
    "            x[i + 1] = 0.\n",
    "        else:\n",
    "            x[i + 1] = x_new\n",
    "    return x\n",
    "\n",
    "\n",
    "n = 100000\n",
    "x = walk(n)\n",
    "\n",
    "```\n",
    "\n",
    "2. Разделите функции на 4 ячейки (либо через меню `Edit`, либо с помощью сочетания клавиш\n",
    "`Ctrl-Shift-Minus`)\n",
    "3. Постройте траекторию случайного движения с помощью `plt.plot(x)`\n",
    "4. Засеките выполнение `walk()` с помощью `%timeit`. Например `t1 = %timeit -o walk(n)`\n",
    "5. Запустите профилировщик ячеек обрезки: `%%prun` и `walk(n)`\n",
    "6. Можете ли вы заметить небольшую ошибку, которая замедляет работу кода?\n",
    "7. В следующем упражнении вы установите линейный профилировщик, который\n",
    "позволит легче выявить ошибку в производительности."
   ]
  },
  {
   "cell_type": "markdown",
   "metadata": {},
   "source": [
    "### Установка команды для профилирования строк"
   ]
  },
  {
   "cell_type": "markdown",
   "metadata": {},
   "source": [
    "\"Магические команды\" (cell magic) могут быть установлены с помощью `pip` и загружаются как плагины\n",
    "с помощью `%load_ext`. Давайте теперь установим линейный профайлер, чтобы получить более\n",
    "подробный отчёт и, надеюсь, найти понимание, как ускорить код из предыдущего упражнения.\n",
    "\n",
    "Если вы не решили предыдущее упражнение, скопируйте и вставьте в ячейку\n",
    "следующий код и выполните его:\n",
    "\n",
    "```python\n",
    "import numpy as np\n",
    "import matplotlib.pyplot as plt\n",
    "\n",
    "\n",
    "def step():\n",
    "    import random\n",
    "    return 1. if random.random() > .5 else -1.\n",
    "\n",
    "\n",
    "def walk(n):\n",
    "    x = np.zeros(n)\n",
    "    dx = 1. / n\n",
    "    for i in range(n - 1):\n",
    "        x_new = x[i] + dx * step()\n",
    "        if x_new > 5e-3:\n",
    "            x[i + 1] = 0.\n",
    "        else:\n",
    "            x[i + 1] = x_new\n",
    "    return x\n",
    "\n",
    "\n",
    "n = 100000\n",
    "x = walk(n)\n",
    "\n",
    "```\n",
    "\n",
    "2. Затем установите профилировщик строк с помощью `!pip install line_profiler`.\n",
    "3. Далее загрузите его с помощью `%load_ext line_profiler`. Посмотрите на новую магическую команду, которая была включена с помощью `%lprun`?\n",
    "5. В новой ячейке запустите профилировщик строк для функций walk и step. Его можно поставить таким же образом, как это описано на странице с помощью\n",
    "6. Посмотрите полученный результат. Можно ли теперь более наглядно увидеть ошибку? Если да, то опишите в комментарии к книге где находится ошибка"
   ]
  },
  {
   "cell_type": "markdown",
   "metadata": {},
   "source": [
    "**Решение:**\n",
    "\n",
    "Скопируйте код в ячейку\n",
    "\n",
    "```\n",
    "!pip install line_profiler\n",
    "```\n",
    "\n",
    "Загрузите расширение `lPython`\n",
    "\n",
    "```\n",
    "%load_ext line_profiler\n",
    "```\n",
    "\n",
    "Посмотрите текст справки\n",
    "\n",
    "```\n",
    "%lprun?\n",
    "```\n",
    "\n",
    "Используйте профилировщик строк на функции walk:\n",
    "\n",
    "```\n",
    "%lprun -f walk walk(10000)\n",
    "```\n",
    "\n",
    "Большинство времени было потрачено на вызов `step()`, значит запустим профайлер на `step`\n",
    "\n",
    "```\n",
    "%lprun -f step walk(10000)\n",
    "```\n",
    "\n",
    "```\n",
    "...\n",
    "     8                                           def step():\n",
    "     9      9999       7488.0      0.7     52.3      import random\n",
    "    10      9999       6840.0      0.7     47.7      return 1. if random.random()\n",
    "...\n",
    "```\n",
    "\n",
    "Больше всего времени тратится на импорт модуля `random` в функции `step`, тысячи\n",
    "вызовов звучат не очень оптимально. Как можно решить эту проблему? Ответ нужно\n",
    "написать в ячейке с комментариями."
   ]
  },
  {
   "cell_type": "markdown",
   "metadata": {},
   "source": []
  }
 ],
 "metadata": {
  "kernelspec": {
   "display_name": "Python 3 (ipykernel)",
   "language": "python",
   "name": "python3"
  },
  "language_info": {
   "codemirror_mode": {
    "name": "ipython",
    "version": 3
   },
   "file_extension": ".py",
   "mimetype": "text/x-python",
   "name": "python",
   "nbconvert_exporter": "python",
   "pygments_lexer": "ipython3",
   "version": "3.12.7"
  }
 },
 "nbformat": 4,
 "nbformat_minor": 4
}
